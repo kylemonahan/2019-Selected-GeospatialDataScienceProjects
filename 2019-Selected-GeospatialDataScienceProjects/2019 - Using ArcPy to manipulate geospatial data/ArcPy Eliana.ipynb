{
 "cells": [
  {
   "cell_type": "code",
   "execution_count": null,
   "metadata": {},
   "outputs": [],
   "source": [
    "#Created by: Kyle Monahan\n",
    "#Date: 2-26-2019\n",
    "\n",
    "#Import the libarries \n",
    "import arcpy           #arcpy\n",
    "from arcpy import env  #working dir\n",
    "import os              #file system access python\n",
    "\n",
    "#Setting working dir (envspace)\n",
    "arcpy.env.workspace = \"/data/input/batchproject\"\n"
   ]
  },
  {
   "cell_type": "code",
   "execution_count": null,
   "metadata": {},
   "outputs": [],
   "source": [
    "#Open your mxd file manually by double-clicking. Must have ArcMap or ArcServer installed \n",
    "#You can also do this in python to keep users from doubleclicking\n",
    "mxd_path = \"/path/to/mxd/\"\n",
    "import os\n",
    "os.startfile(mxd_path)\n"
   ]
  },
  {
   "cell_type": "code",
   "execution_count": null,
   "metadata": {},
   "outputs": [],
   "source": [
    "# get the map document that is currently open\n",
    "mxd = arcpy.mapping.MapDocument(\"CURRENT\")\n",
    "\n",
    "# get the data frame inside the mxd\n",
    "df = arcpy.mapping.ListDataFrames(mxd,\"*\")[0]"
   ]
  },
  {
   "cell_type": "code",
   "execution_count": null,
   "metadata": {},
   "outputs": [],
   "source": [
    "shape_path = \"/path/to/shape/\"\n",
    "# create a new layer\n",
    "newlayer = arcpy.mapping.Layer(path_to_shapefile_or_feature_class)\n",
    "                    "
   ]
  },
  {
   "cell_type": "code",
   "execution_count": null,
   "metadata": {},
   "outputs": [],
   "source": [
    "# add the layer to the map at the bottom of the TOC in data frame 0\n",
    "arcpy.mapping.AddLayer(df, newlayer,\"BOTTOM\")\n",
    "arcpy.mapping.AddLayer(df, secondlayer,\"BOTTOM\") \n",
    "#etc\n"
   ]
  },
  {
   "cell_type": "code",
   "execution_count": null,
   "metadata": {},
   "outputs": [],
   "source": [
    "#Now we Batch Project. I found this by Googling \"BatchProject arcpy\"\n",
    "arcpy.BatchProject_management([\"citylim.shp\", \"flood.shp\", \"faultzn.shp\"], \"C:/data/output/batchproject\", \"\", \"C:/data/usa.gdb/templatefc\")\n",
    "#More details: http://desktop.arcgis.com/en/arcmap/10.3/tools/data-management-toolbox/batch-project.htm\n",
    "\n",
    "#Try out Select by Location in the same way. Scroll down here:\n",
    "#http://desktop.arcgis.com/en/arcmap/latest/tools/data-management-toolbox/select-layer-by-location.htm\n",
    "    \n",
    "#Do the same here for TabulateIntersection:\n",
    "#https://pro.arcgis.com/en/pro-app/tool-reference/analysis/tabulate-intersection.htm"
   ]
  }
 ],
 "metadata": {
  "kernelspec": {
   "display_name": "Python 3",
   "language": "python",
   "name": "python3"
  },
  "language_info": {
   "codemirror_mode": {
    "name": "ipython",
    "version": 3
   },
   "file_extension": ".py",
   "mimetype": "text/x-python",
   "name": "python",
   "nbconvert_exporter": "python",
   "pygments_lexer": "ipython3",
   "version": "3.7.1"
  }
 },
 "nbformat": 4,
 "nbformat_minor": 2
}
